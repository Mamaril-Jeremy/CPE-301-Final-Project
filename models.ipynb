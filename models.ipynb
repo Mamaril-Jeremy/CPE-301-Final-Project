{
  "cells": [
    {
      "cell_type": "markdown",
      "metadata": {
        "id": "view-in-github",
        "colab_type": "text"
      },
      "source": [
        "<a href=\"https://colab.research.google.com/github/Mamaril-Jeremy/CPE-301-Final-Project/blob/main/models.ipynb\" target=\"_parent\"><img src=\"https://colab.research.google.com/assets/colab-badge.svg\" alt=\"Open In Colab\"/></a>"
      ]
    },
    {
      "cell_type": "code",
      "source": [
        "import kagglehub\n",
        "\n",
        "# Download latest version\n",
        "path = kagglehub.dataset_download(\"rtatman/deceptive-opinion-spam-corpus\")\n",
        "\n",
        "print(\"Path to dataset files:\", path)"
      ],
      "metadata": {
        "colab": {
          "base_uri": "https://localhost:8080/"
        },
        "id": "pQHEgK1dFDWa",
        "outputId": "3450f6c2-2fcc-4021-c39d-af8a1a4e0f26"
      },
      "execution_count": 8,
      "outputs": [
        {
          "output_type": "stream",
          "name": "stdout",
          "text": [
            "Path to dataset files: /root/.cache/kagglehub/datasets/rtatman/deceptive-opinion-spam-corpus/versions/2\n"
          ]
        }
      ]
    },
    {
      "cell_type": "markdown",
      "metadata": {
        "id": "1EbqW6HY_eDT"
      },
      "source": [
        "Import Dataset and Preprocess"
      ]
    },
    {
      "cell_type": "code",
      "execution_count": 9,
      "metadata": {
        "id": "Tbf8eM3a_eDV"
      },
      "outputs": [],
      "source": [
        "import pandas as pd\n",
        "import numpy as np\n",
        "from sklearn.feature_extraction.text import TfidfVectorizer\n",
        "from sklearn.model_selection import train_test_split\n",
        "\n",
        "data = pd.read_csv(path+\"/deceptive-opinion.csv\")\n",
        "X = np.copy(data['text'])\n",
        "y = np.copy(data['deceptive'])\n",
        "y = np.array(y == 'truthful').astype(int)\n",
        "\n",
        "X_train, X_test, y_train, y_test = train_test_split(\n",
        "    X, y, test_size=0.20, random_state=42)\n",
        "\n",
        "vectorizer = TfidfVectorizer()\n",
        "X_train = vectorizer.fit_transform(X_train)\n",
        "X_test = vectorizer.transform(X_test)\n"
      ]
    },
    {
      "cell_type": "markdown",
      "metadata": {
        "id": "nreddAGk_eDW"
      },
      "source": [
        "Next, build and evaluate the models:"
      ]
    },
    {
      "cell_type": "code",
      "source": [
        "from sklearn.metrics import accuracy_score, precision_recall_fscore_support\n",
        "from sklearn.svm import LinearSVC\n",
        "from sklearn.naive_bayes import MultinomialNB\n",
        "from sklearn.neighbors import KNeighborsClassifier\n",
        "from sklearn.ensemble import RandomForestClassifier\n",
        "from sklearn.ensemble import AdaBoostClassifier\n",
        "from sklearn.tree import DecisionTreeClassifier\n",
        "import xgboost as xgb\n",
        "from xgboost import XGBClassifier\n",
        "\n",
        "classifiers = [LinearSVC(), MultinomialNB(), KNeighborsClassifier(), DecisionTreeClassifier(max_depth=10), RandomForestClassifier(max_depth=20), AdaBoostClassifier(algorithm='SAMME', estimator=DecisionTreeClassifier(max_depth=4)), XGBClassifier()]\n",
        "classifier_labels = ['Linear Regression Classifier', 'Naive Bayes', 'K-Nearest Neighbors', 'Decision Tree', 'Random Forest', 'AdaBoost', 'XGBoost']\n",
        "accuracies = np.zeros(7)\n",
        "precision = np.array([0,0])\n",
        "recall = np.array([0,0])\n",
        "f1 = np.array([0,0])\n",
        "support = np.array([0,0])\n",
        "\n",
        "index = 0\n",
        "for model in classifiers:\n",
        "    model = model.fit(X_train, y_train)\n",
        "    y_pred = model.predict(X_test)\n",
        "    accuracies[index] = accuracy_score(y_true=y_test, y_pred=y_pred)\n",
        "    precision, recall, f1, support = precision_recall_fscore_support(y_true=y_test, y_pred=y_pred)\n",
        "    print('%s Accuracy %.4f' % (classifier_labels[index], accuracies[index]))\n",
        "    print('%s Precision, Recall, F1 Score, and Support: %.4f %.4f, %.4f, %.4f' % (classifier_labels[index], precision[0], recall[0], f1[0], support[0]))\n",
        "    index += 1"
      ],
      "metadata": {
        "id": "2mrRoZcEzjj5",
        "outputId": "c4617fe1-c475-4c39-fd3a-d5df5a3acd01",
        "colab": {
          "base_uri": "https://localhost:8080/"
        }
      },
      "execution_count": 15,
      "outputs": [
        {
          "output_type": "stream",
          "name": "stdout",
          "text": [
            "Linear Regression Classifier Accuracy 0.8688\n",
            "Linear Regression Classifier Precision, Recall, F1 Score, and Support: 0.8395 0.8947, 0.8662, 152.0000\n",
            "Naive Bayes Accuracy 0.8281\n",
            "Naive Bayes Precision, Recall, F1 Score, and Support: 0.7487 0.9605, 0.8415, 152.0000\n",
            "K-Nearest Neighbors Accuracy 0.6781\n",
            "K-Nearest Neighbors Precision, Recall, F1 Score, and Support: 0.6089 0.9013, 0.7268, 152.0000\n",
            "Decision Tree Accuracy 0.7000\n",
            "Decision Tree Precision, Recall, F1 Score, and Support: 0.6842 0.6842, 0.6842, 152.0000\n",
            "Random Forest Accuracy 0.8313\n",
            "Random Forest Precision, Recall, F1 Score, and Support: 0.7784 0.9013, 0.8354, 152.0000\n",
            "AdaBoost Accuracy 0.7875\n",
            "AdaBoost Precision, Recall, F1 Score, and Support: 0.7625 0.8026, 0.7821, 152.0000\n",
            "XGBoost Accuracy 0.7969\n",
            "XGBoost Precision, Recall, F1 Score, and Support: 0.7771 0.8026, 0.7896, 152.0000\n"
          ]
        }
      ]
    }
  ],
  "metadata": {
    "kernelspec": {
      "display_name": "Python 3",
      "language": "python",
      "name": "python3"
    },
    "language_info": {
      "codemirror_mode": {
        "name": "ipython",
        "version": 3
      },
      "file_extension": ".py",
      "mimetype": "text/x-python",
      "name": "python",
      "nbconvert_exporter": "python",
      "pygments_lexer": "ipython3",
      "version": "3.12.0"
    },
    "colab": {
      "provenance": [],
      "include_colab_link": true
    }
  },
  "nbformat": 4,
  "nbformat_minor": 0
}